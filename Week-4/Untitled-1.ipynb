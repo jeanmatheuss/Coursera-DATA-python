{
 "cells": [
  {
   "cell_type": "code",
   "execution_count": 14,
   "metadata": {},
   "outputs": [],
   "source": [
    "import pandas as pd\n",
    "import numpy as np\n",
    "import scipy.stats as stats\n",
    "import re\n",
    "\n",
    "nhl_df = pd.read_csv(\"assets/nhl.csv\")\n",
    "cities = pd.read_html(\"assets/wikipedia_data.html\")[1]\n",
    "cities = cities.iloc[:-1, [0, 3, 5, 6, 7, 8]]\n",
    "\n",
    "\n",
    "def clean_nhl_df():\n",
    "    # load data\n",
    "    nhl_df = pd.read_csv(\"assets/nhl.csv\")\n",
    "    cities = pd.read_html(\"assets/wikipedia_data.html\")[1]\n",
    "    cities = cities.iloc[:-1, [0, 3, 5, 6, 7, 8]]\n",
    "\n",
    "    # cleaning the cities dataframe\n",
    "    cities[\"NHL\"] = cities[\"NHL\"].apply(lambda x: re.sub(r\"\\[.+\\]\", \"\", x))\n",
    "    cities[\"NHL\"] = cities[\"NHL\"].replace({\"RangersIslandersDevils\": \"Rangers,Islanders,Devils\",\n",
    "                                           \"KingsDucks\": \"Kings,Ducks\",\n",
    "                                           \"Red Wings\": \"Red,Wings\",\n",
    "                                           \"Maple Leafs\": \"Maple,Leafs\",\n",
    "                                           \"Blue Jackets\": \"Blue,Jackets\",\n",
    "                                           \"Golden Knights\": \"Golden,Knights\"})\n",
    "    cities[\"NHL\"] = cities[\"NHL\"].apply(lambda x: x.split(\",\"))\n",
    "    cities = cities.explode(\"NHL\")\n",
    "\n",
    "    # cleaning the nhl_df dataframe\n",
    "    nhl_df = nhl_df[nhl_df[\"year\"] == 2018]\n",
    "    nhl_df[\"team\"] = nhl_df[\"team\"].apply(lambda x: x.replace(\"*\", \"\"))\n",
    "    nhl_df[\"team\"] = nhl_df[\"team\"].apply(lambda x: x.split(\" \")[-1])\n",
    "\n",
    "    # merge the dataframes\n",
    "    df = pd.merge(cities, nhl_df, left_on=\"NHL\", right_on=\"team\")\n",
    "    df = df[[\"Metropolitan area\",\n",
    "             \"Population (2016 est.)[8]\", \"NHL\", \"team\", \"W\", \"L\"]]\n",
    "    df[\"W-L%\"] = df[\"W\"].astype(\"int\") / \\\n",
    "        (df[\"W\"].astype(\"int\") + df[\"L\"].astype(\"int\"))\n",
    "    df[\"Population (2016 est.)[8]\"] = df[\"Population (2016 est.)[8]\"].astype(\n",
    "        \"float\")\n",
    "    df[\"W-L%\"] = df[\"W-L%\"].astype(\"float\")\n",
    "\n",
    "    # drop duplicated columns\n",
    "    df.loc[df[\"Metropolitan area\"] == \"New York City\",\n",
    "           \"W-L%\"] = 0.5182013333333334  # mean of NY W-L%\n",
    "    df.loc[df[\"Metropolitan area\"] == \"Los Angeles\",\n",
    "           \"W-L%\"] = 0.6228945  # mean of LA W-L%\n",
    "    df = df.drop_duplicates(subset=\"Metropolitan area\").reset_index()\n",
    "    df = df.drop(columns=\"index\")\n",
    "\n",
    "    return df\n",
    "\n",
    "\n",
    "def nhl_correlation():\n",
    "    # YOUR CODE HERE\n",
    "    #     raise NotImplementedError()\n",
    "    df = clean_nhl_df()\n",
    "\n",
    "    # pass in metropolitan area population from cities\n",
    "    population_by_region = df[\"Population (2016 est.)[8]\"]\n",
    "    # pass in win/loss ratio from nhl_df in the same order as cities[\"Metropolitan area\"]\n",
    "    win_loss_by_region = df[\"W-L%\"]\n",
    "\n",
    "    assert len(population_by_region) == len(\n",
    "        win_loss_by_region), \"Q1: Your lists must be the same length\"\n",
    "    assert len(\n",
    "        population_by_region) == 28, \"Q1: There should be 28 teams being analysed for NHL\"\n",
    "\n",
    "    result = stats.pearsonr(population_by_region, win_loss_by_region)\n",
    "\n",
    "    return result[0]\n"
   ]
  },
  {
   "cell_type": "code",
   "execution_count": 2,
   "metadata": {},
   "outputs": [
    {
     "data": {
      "text/html": [
       "<div>\n",
       "<style scoped>\n",
       "    .dataframe tbody tr th:only-of-type {\n",
       "        vertical-align: middle;\n",
       "    }\n",
       "\n",
       "    .dataframe tbody tr th {\n",
       "        vertical-align: top;\n",
       "    }\n",
       "\n",
       "    .dataframe thead th {\n",
       "        text-align: right;\n",
       "    }\n",
       "</style>\n",
       "<table border=\"1\" class=\"dataframe\">\n",
       "  <thead>\n",
       "    <tr style=\"text-align: right;\">\n",
       "      <th></th>\n",
       "      <th>Metropolitan area</th>\n",
       "      <th>Population (2016 est.)[8]</th>\n",
       "      <th>NHL</th>\n",
       "      <th>team</th>\n",
       "      <th>W</th>\n",
       "      <th>L</th>\n",
       "      <th>W-L%</th>\n",
       "    </tr>\n",
       "  </thead>\n",
       "  <tbody>\n",
       "    <tr>\n",
       "      <th>0</th>\n",
       "      <td>New York City</td>\n",
       "      <td>20153634.0</td>\n",
       "      <td>Rangers</td>\n",
       "      <td>Rangers</td>\n",
       "      <td>34</td>\n",
       "      <td>39</td>\n",
       "      <td>0.518201</td>\n",
       "    </tr>\n",
       "    <tr>\n",
       "      <th>1</th>\n",
       "      <td>Los Angeles</td>\n",
       "      <td>13310447.0</td>\n",
       "      <td>Kings</td>\n",
       "      <td>Kings</td>\n",
       "      <td>45</td>\n",
       "      <td>29</td>\n",
       "      <td>0.622895</td>\n",
       "    </tr>\n",
       "    <tr>\n",
       "      <th>2</th>\n",
       "      <td>San Francisco Bay Area</td>\n",
       "      <td>6657982.0</td>\n",
       "      <td>Sharks</td>\n",
       "      <td>Sharks</td>\n",
       "      <td>45</td>\n",
       "      <td>27</td>\n",
       "      <td>0.625000</td>\n",
       "    </tr>\n",
       "    <tr>\n",
       "      <th>3</th>\n",
       "      <td>Chicago</td>\n",
       "      <td>9512999.0</td>\n",
       "      <td>Blackhawks</td>\n",
       "      <td>Blackhawks</td>\n",
       "      <td>33</td>\n",
       "      <td>39</td>\n",
       "      <td>0.458333</td>\n",
       "    </tr>\n",
       "    <tr>\n",
       "      <th>4</th>\n",
       "      <td>Dallas–Fort Worth</td>\n",
       "      <td>7233323.0</td>\n",
       "      <td>Stars</td>\n",
       "      <td>Stars</td>\n",
       "      <td>42</td>\n",
       "      <td>32</td>\n",
       "      <td>0.567568</td>\n",
       "    </tr>\n",
       "    <tr>\n",
       "      <th>5</th>\n",
       "      <td>Washington, D.C.</td>\n",
       "      <td>6131977.0</td>\n",
       "      <td>Capitals</td>\n",
       "      <td>Capitals</td>\n",
       "      <td>49</td>\n",
       "      <td>26</td>\n",
       "      <td>0.653333</td>\n",
       "    </tr>\n",
       "    <tr>\n",
       "      <th>6</th>\n",
       "      <td>Philadelphia</td>\n",
       "      <td>6070500.0</td>\n",
       "      <td>Flyers</td>\n",
       "      <td>Flyers</td>\n",
       "      <td>42</td>\n",
       "      <td>26</td>\n",
       "      <td>0.617647</td>\n",
       "    </tr>\n",
       "    <tr>\n",
       "      <th>7</th>\n",
       "      <td>Boston</td>\n",
       "      <td>4794447.0</td>\n",
       "      <td>Bruins</td>\n",
       "      <td>Bruins</td>\n",
       "      <td>50</td>\n",
       "      <td>20</td>\n",
       "      <td>0.714286</td>\n",
       "    </tr>\n",
       "    <tr>\n",
       "      <th>8</th>\n",
       "      <td>Minneapolis–Saint Paul</td>\n",
       "      <td>3551036.0</td>\n",
       "      <td>Wild</td>\n",
       "      <td>Wild</td>\n",
       "      <td>45</td>\n",
       "      <td>26</td>\n",
       "      <td>0.633803</td>\n",
       "    </tr>\n",
       "    <tr>\n",
       "      <th>9</th>\n",
       "      <td>Denver</td>\n",
       "      <td>2853077.0</td>\n",
       "      <td>Avalanche</td>\n",
       "      <td>Avalanche</td>\n",
       "      <td>43</td>\n",
       "      <td>30</td>\n",
       "      <td>0.589041</td>\n",
       "    </tr>\n",
       "    <tr>\n",
       "      <th>10</th>\n",
       "      <td>Miami–Fort Lauderdale</td>\n",
       "      <td>6066387.0</td>\n",
       "      <td>Panthers</td>\n",
       "      <td>Panthers</td>\n",
       "      <td>44</td>\n",
       "      <td>30</td>\n",
       "      <td>0.594595</td>\n",
       "    </tr>\n",
       "    <tr>\n",
       "      <th>11</th>\n",
       "      <td>Phoenix</td>\n",
       "      <td>4661537.0</td>\n",
       "      <td>Coyotes</td>\n",
       "      <td>Coyotes</td>\n",
       "      <td>29</td>\n",
       "      <td>41</td>\n",
       "      <td>0.414286</td>\n",
       "    </tr>\n",
       "    <tr>\n",
       "      <th>12</th>\n",
       "      <td>Detroit</td>\n",
       "      <td>4297617.0</td>\n",
       "      <td>Wings</td>\n",
       "      <td>Wings</td>\n",
       "      <td>30</td>\n",
       "      <td>39</td>\n",
       "      <td>0.434783</td>\n",
       "    </tr>\n",
       "    <tr>\n",
       "      <th>13</th>\n",
       "      <td>Toronto</td>\n",
       "      <td>5928040.0</td>\n",
       "      <td>Leafs</td>\n",
       "      <td>Leafs</td>\n",
       "      <td>49</td>\n",
       "      <td>26</td>\n",
       "      <td>0.653333</td>\n",
       "    </tr>\n",
       "    <tr>\n",
       "      <th>14</th>\n",
       "      <td>Tampa Bay Area</td>\n",
       "      <td>3032171.0</td>\n",
       "      <td>Lightning</td>\n",
       "      <td>Lightning</td>\n",
       "      <td>54</td>\n",
       "      <td>23</td>\n",
       "      <td>0.701299</td>\n",
       "    </tr>\n",
       "    <tr>\n",
       "      <th>15</th>\n",
       "      <td>Pittsburgh</td>\n",
       "      <td>2342299.0</td>\n",
       "      <td>Penguins</td>\n",
       "      <td>Penguins</td>\n",
       "      <td>47</td>\n",
       "      <td>29</td>\n",
       "      <td>0.618421</td>\n",
       "    </tr>\n",
       "    <tr>\n",
       "      <th>16</th>\n",
       "      <td>St. Louis</td>\n",
       "      <td>2807002.0</td>\n",
       "      <td>Blues</td>\n",
       "      <td>Blues</td>\n",
       "      <td>44</td>\n",
       "      <td>32</td>\n",
       "      <td>0.578947</td>\n",
       "    </tr>\n",
       "    <tr>\n",
       "      <th>17</th>\n",
       "      <td>Nashville</td>\n",
       "      <td>1865298.0</td>\n",
       "      <td>Predators</td>\n",
       "      <td>Predators</td>\n",
       "      <td>53</td>\n",
       "      <td>18</td>\n",
       "      <td>0.746479</td>\n",
       "    </tr>\n",
       "    <tr>\n",
       "      <th>18</th>\n",
       "      <td>Buffalo</td>\n",
       "      <td>1132804.0</td>\n",
       "      <td>Sabres</td>\n",
       "      <td>Sabres</td>\n",
       "      <td>25</td>\n",
       "      <td>45</td>\n",
       "      <td>0.357143</td>\n",
       "    </tr>\n",
       "    <tr>\n",
       "      <th>19</th>\n",
       "      <td>Montreal</td>\n",
       "      <td>4098927.0</td>\n",
       "      <td>Canadiens</td>\n",
       "      <td>Canadiens</td>\n",
       "      <td>29</td>\n",
       "      <td>40</td>\n",
       "      <td>0.420290</td>\n",
       "    </tr>\n",
       "    <tr>\n",
       "      <th>20</th>\n",
       "      <td>Vancouver</td>\n",
       "      <td>2463431.0</td>\n",
       "      <td>Canucks</td>\n",
       "      <td>Canucks</td>\n",
       "      <td>31</td>\n",
       "      <td>40</td>\n",
       "      <td>0.436620</td>\n",
       "    </tr>\n",
       "    <tr>\n",
       "      <th>21</th>\n",
       "      <td>Columbus</td>\n",
       "      <td>2041520.0</td>\n",
       "      <td>Jackets</td>\n",
       "      <td>Jackets</td>\n",
       "      <td>45</td>\n",
       "      <td>30</td>\n",
       "      <td>0.600000</td>\n",
       "    </tr>\n",
       "    <tr>\n",
       "      <th>22</th>\n",
       "      <td>Calgary</td>\n",
       "      <td>1392609.0</td>\n",
       "      <td>Flames</td>\n",
       "      <td>Flames</td>\n",
       "      <td>37</td>\n",
       "      <td>35</td>\n",
       "      <td>0.513889</td>\n",
       "    </tr>\n",
       "    <tr>\n",
       "      <th>23</th>\n",
       "      <td>Ottawa</td>\n",
       "      <td>1323783.0</td>\n",
       "      <td>Senators</td>\n",
       "      <td>Senators</td>\n",
       "      <td>28</td>\n",
       "      <td>43</td>\n",
       "      <td>0.394366</td>\n",
       "    </tr>\n",
       "    <tr>\n",
       "      <th>24</th>\n",
       "      <td>Edmonton</td>\n",
       "      <td>1321426.0</td>\n",
       "      <td>Oilers</td>\n",
       "      <td>Oilers</td>\n",
       "      <td>36</td>\n",
       "      <td>40</td>\n",
       "      <td>0.473684</td>\n",
       "    </tr>\n",
       "    <tr>\n",
       "      <th>25</th>\n",
       "      <td>Winnipeg</td>\n",
       "      <td>778489.0</td>\n",
       "      <td>Jets</td>\n",
       "      <td>Jets</td>\n",
       "      <td>52</td>\n",
       "      <td>20</td>\n",
       "      <td>0.722222</td>\n",
       "    </tr>\n",
       "    <tr>\n",
       "      <th>26</th>\n",
       "      <td>Las Vegas</td>\n",
       "      <td>2155664.0</td>\n",
       "      <td>Knights</td>\n",
       "      <td>Knights</td>\n",
       "      <td>51</td>\n",
       "      <td>24</td>\n",
       "      <td>0.680000</td>\n",
       "    </tr>\n",
       "    <tr>\n",
       "      <th>27</th>\n",
       "      <td>Raleigh</td>\n",
       "      <td>1302946.0</td>\n",
       "      <td>Hurricanes</td>\n",
       "      <td>Hurricanes</td>\n",
       "      <td>36</td>\n",
       "      <td>35</td>\n",
       "      <td>0.507042</td>\n",
       "    </tr>\n",
       "  </tbody>\n",
       "</table>\n",
       "</div>"
      ],
      "text/plain": [
       "         Metropolitan area  Population (2016 est.)[8]         NHL        team  \\\n",
       "0            New York City                 20153634.0     Rangers     Rangers   \n",
       "1              Los Angeles                 13310447.0       Kings       Kings   \n",
       "2   San Francisco Bay Area                  6657982.0      Sharks      Sharks   \n",
       "3                  Chicago                  9512999.0  Blackhawks  Blackhawks   \n",
       "4        Dallas–Fort Worth                  7233323.0       Stars       Stars   \n",
       "5         Washington, D.C.                  6131977.0    Capitals    Capitals   \n",
       "6             Philadelphia                  6070500.0      Flyers      Flyers   \n",
       "7                   Boston                  4794447.0      Bruins      Bruins   \n",
       "8   Minneapolis–Saint Paul                  3551036.0        Wild        Wild   \n",
       "9                   Denver                  2853077.0   Avalanche   Avalanche   \n",
       "10   Miami–Fort Lauderdale                  6066387.0    Panthers    Panthers   \n",
       "11                 Phoenix                  4661537.0     Coyotes     Coyotes   \n",
       "12                 Detroit                  4297617.0       Wings       Wings   \n",
       "13                 Toronto                  5928040.0       Leafs       Leafs   \n",
       "14          Tampa Bay Area                  3032171.0   Lightning   Lightning   \n",
       "15              Pittsburgh                  2342299.0    Penguins    Penguins   \n",
       "16               St. Louis                  2807002.0       Blues       Blues   \n",
       "17               Nashville                  1865298.0   Predators   Predators   \n",
       "18                 Buffalo                  1132804.0      Sabres      Sabres   \n",
       "19                Montreal                  4098927.0   Canadiens   Canadiens   \n",
       "20               Vancouver                  2463431.0     Canucks     Canucks   \n",
       "21                Columbus                  2041520.0     Jackets     Jackets   \n",
       "22                 Calgary                  1392609.0      Flames      Flames   \n",
       "23                  Ottawa                  1323783.0    Senators    Senators   \n",
       "24                Edmonton                  1321426.0      Oilers      Oilers   \n",
       "25                Winnipeg                   778489.0        Jets        Jets   \n",
       "26               Las Vegas                  2155664.0     Knights     Knights   \n",
       "27                 Raleigh                  1302946.0  Hurricanes  Hurricanes   \n",
       "\n",
       "     W   L      W-L%  \n",
       "0   34  39  0.518201  \n",
       "1   45  29  0.622895  \n",
       "2   45  27  0.625000  \n",
       "3   33  39  0.458333  \n",
       "4   42  32  0.567568  \n",
       "5   49  26  0.653333  \n",
       "6   42  26  0.617647  \n",
       "7   50  20  0.714286  \n",
       "8   45  26  0.633803  \n",
       "9   43  30  0.589041  \n",
       "10  44  30  0.594595  \n",
       "11  29  41  0.414286  \n",
       "12  30  39  0.434783  \n",
       "13  49  26  0.653333  \n",
       "14  54  23  0.701299  \n",
       "15  47  29  0.618421  \n",
       "16  44  32  0.578947  \n",
       "17  53  18  0.746479  \n",
       "18  25  45  0.357143  \n",
       "19  29  40  0.420290  \n",
       "20  31  40  0.436620  \n",
       "21  45  30  0.600000  \n",
       "22  37  35  0.513889  \n",
       "23  28  43  0.394366  \n",
       "24  36  40  0.473684  \n",
       "25  52  20  0.722222  \n",
       "26  51  24  0.680000  \n",
       "27  36  35  0.507042  "
      ]
     },
     "execution_count": 2,
     "metadata": {},
     "output_type": "execute_result"
    }
   ],
   "source": [
    "clean_nhl_df()\n"
   ]
  },
  {
   "cell_type": "code",
   "execution_count": 3,
   "metadata": {},
   "outputs": [
    {
     "data": {
      "text/plain": [
       "0.012485959345532895"
      ]
     },
     "execution_count": 3,
     "metadata": {},
     "output_type": "execute_result"
    }
   ],
   "source": [
    "nhl_correlation()\n"
   ]
  },
  {
   "cell_type": "code",
   "execution_count": 2,
   "metadata": {},
   "outputs": [],
   "source": [
    "import pandas as pd\n",
    "import numpy as np\n",
    "import scipy.stats as stats\n",
    "import re\n",
    "\n",
    "mlb_df = pd.read_csv(\"assets/mlb.csv\")\n",
    "cities = pd.read_html(\"assets/wikipedia_data.html\")[1]\n",
    "cities = cities.iloc[:-1, [0, 3, 5, 6, 7, 8]]\n",
    "\n",
    "\n",
    "def mlb_correlation():\n",
    "    mlb_df = pd.read_csv(\"assets/mlb.csv\")\n",
    "    cities = pd.read_html(\"assets/wikipedia_data.html\")[1]\n",
    "    cities = cities.iloc[:-1, [0, 3, 5, 6, 7, 8]]\n",
    "\n",
    "    # mlb\n",
    "    mlb_df = mlb_df.query('year == 2018')\n",
    "    mlb_df = mlb_df.replace(\n",
    "        {'Boston Red Sox': 'RedSox', 'Chicago White Sox': 'WhiteSox'})\n",
    "    mlb_df['team'] = mlb_df['team'].str.split(' ').str[-1]\n",
    "    mlb_df['W/L%'] = mlb_df['W'] / (mlb_df['W'] + mlb_df['L'])\n",
    "\n",
    "    # cities\n",
    "    teams = {'YankeesMets': 'Yankees Mets', 'DodgersAngels': 'Dodgers Angels',\n",
    "             'GiantsAthletics': 'Giants Athletics', 'CubsWhite Sox': 'Cubs WhiteSox', 'Red Sox': 'RedSox'}\n",
    "    cities['MLB'] = cities['MLB'].str.replace(r'\\[.*\\]', '', regex=True)\n",
    "    cities['MLB'] = cities['MLB'].replace(teams).str.split(' ')\n",
    "    cities = cities.explode('MLB')\n",
    "\n",
    "    # merge\n",
    "    df = pd.merge(mlb_df, cities, left_on='team', right_on='MLB')\n",
    "    df = df[['Metropolitan area', 'Population (2016 est.)[8]', 'MLB', 'W-L%']].astype(\n",
    "        {'Population (2016 est.)[8]': 'int64', 'W-L%': 'float'})\n",
    "\n",
    "    # mean and merge\n",
    "    df_mean = df.groupby('Metropolitan area')[['W-L%']].mean()\n",
    "    df = pd.merge(df, df_mean, on='Metropolitan area').drop_duplicates(\n",
    "        'Metropolitan area').reset_index(drop=True)\n",
    "    df = df[['Metropolitan area',\n",
    "             'Population (2016 est.)[8]', 'MLB', 'W-L%_y']].rename(columns={'W-L%_y': 'W-L%'})\n",
    "\n",
    "    # pass in metropolitan area population from cities\n",
    "    population_by_region = df['Population (2016 est.)[8]']\n",
    "    # pass in win/loss ratio from mlb_df in the same order as cities[\"Metropolitan area\"]\n",
    "    win_loss_by_region = df['W-L%']\n",
    "\n",
    "    assert len(population_by_region) == len(\n",
    "        win_loss_by_region), \"Q3: Your lists must be the same length\"\n",
    "    assert len(\n",
    "        population_by_region) == 26, \"Q3: There should be 26 teams being analysed for MLB\"\n",
    "    corr = stats.pearsonr(population_by_region, win_loss_by_region)\n",
    "\n",
    "    return corr[0]\n",
    "    raise NotImplementedError()\n"
   ]
  },
  {
   "cell_type": "code",
   "execution_count": 4,
   "metadata": {},
   "outputs": [
    {
     "data": {
      "text/plain": [
       "0.15003737475409495"
      ]
     },
     "execution_count": 4,
     "metadata": {},
     "output_type": "execute_result"
    }
   ],
   "source": [
    "mlb_correlation()\n"
   ]
  },
  {
   "cell_type": "code",
   "execution_count": 3,
   "metadata": {},
   "outputs": [
    {
     "data": {
      "text/plain": [
       "46"
      ]
     },
     "execution_count": 3,
     "metadata": {},
     "output_type": "execute_result"
    }
   ],
   "source": [
    "import numpy as np\n",
    "\n",
    "a = np.arange(8)\n",
    "b = a[4:6]\n",
    "b[:] = 40\n",
    "c = a[4] + a[6]\n",
    "c"
   ]
  },
  {
   "cell_type": "code",
   "execution_count": 7,
   "metadata": {},
   "outputs": [
    {
     "data": {
      "text/plain": [
       "True"
      ]
     },
     "execution_count": 7,
     "metadata": {},
     "output_type": "execute_result"
    }
   ],
   "source": [
    "import re\n",
    "s = 'ABCAC'\n",
    "\n",
    "bool(re.match('A', s)) == True"
   ]
  },
  {
   "cell_type": "code",
   "execution_count": 49,
   "metadata": {},
   "outputs": [],
   "source": [
    "def result():\n",
    "    s = 'ACAABAACAAABACDBADDDFSDDDFFSSSASDAFAAACBAAAFASD'\n",
    "\n",
    "    result = []\n",
    "    # compete the pattern below\n",
    "    pattern = '([^A{3}])(?=A{3})'\n",
    "    for item in re.finditer(pattern, s):\n",
    "      # identify the group number below.\n",
    "      result.append(item.group())\n",
    "      \n",
    "    return result"
   ]
  },
  {
   "cell_type": "code",
   "execution_count": 50,
   "metadata": {},
   "outputs": [
    {
     "data": {
      "text/plain": [
       "['C', 'F', 'B']"
      ]
     },
     "execution_count": 50,
     "metadata": {},
     "output_type": "execute_result"
    }
   ],
   "source": [
    "result()"
   ]
  },
  {
   "cell_type": "code",
   "execution_count": 58,
   "metadata": {},
   "outputs": [
    {
     "ename": "TypeError",
     "evalue": "unhashable type: 'list'",
     "output_type": "error",
     "traceback": [
      "\u001b[1;31m---------------------------------------------------------------------------\u001b[0m",
      "\u001b[1;31mTypeError\u001b[0m                                 Traceback (most recent call last)",
      "\u001b[1;32mc:\\Users\\jeanm\\Documents\\Curso Análise de dados\\Coursera DATA\\Week-4\\Untitled-1.ipynb Cell 10\u001b[0m in \u001b[0;36m<cell line: 3>\u001b[1;34m()\u001b[0m\n\u001b[0;32m      <a href='vscode-notebook-cell:/c%3A/Users/jeanm/Documents/Curso%20An%C3%A1lise%20de%20dados/Coursera%20DATA/Week-4/Untitled-1.ipynb#X12sZmlsZQ%3D%3D?line=0'>1</a>\u001b[0m \u001b[39mimport\u001b[39;00m \u001b[39mpandas\u001b[39;00m \u001b[39mas\u001b[39;00m \u001b[39mpd\u001b[39;00m\n\u001b[1;32m----> <a href='vscode-notebook-cell:/c%3A/Users/jeanm/Documents/Curso%20An%C3%A1lise%20de%20dados/Coursera%20DATA/Week-4/Untitled-1.ipynb#X12sZmlsZQ%3D%3D?line=2'>3</a>\u001b[0m df \u001b[39m=\u001b[39m pd\u001b[39m.\u001b[39mSeries({[\u001b[39m4\u001b[39m,\u001b[39m7\u001b[39m,\u001b[39m-\u001b[39m\u001b[39m5\u001b[39m,\u001b[39m3\u001b[39m]:[\u001b[39m'\u001b[39m\u001b[39md\u001b[39m\u001b[39m'\u001b[39m,\u001b[39m'\u001b[39m\u001b[39mb\u001b[39m\u001b[39m'\u001b[39m,\u001b[39m'\u001b[39m\u001b[39ma\u001b[39m\u001b[39m'\u001b[39m,\u001b[39m'\u001b[39m\u001b[39mc\u001b[39m\u001b[39m'\u001b[39m],[\u001b[39m1\u001b[39m,\u001b[39m2\u001b[39m,\u001b[39m3\u001b[39m]:[\u001b[39m'\u001b[39m\u001b[39mf\u001b[39m\u001b[39m'\u001b[39m,\u001b[39m'\u001b[39m\u001b[39mg\u001b[39m\u001b[39m'\u001b[39m,\u001b[39m'\u001b[39m\u001b[39mh\u001b[39m\u001b[39m'\u001b[39m]})\n\u001b[0;32m      <a href='vscode-notebook-cell:/c%3A/Users/jeanm/Documents/Curso%20An%C3%A1lise%20de%20dados/Coursera%20DATA/Week-4/Untitled-1.ipynb#X12sZmlsZQ%3D%3D?line=3'>4</a>\u001b[0m df\n",
      "\u001b[1;31mTypeError\u001b[0m: unhashable type: 'list'"
     ]
    }
   ],
   "source": [
    "import pandas as pd\n",
    "\n",
    "df = pd.Series({[4,7,-5,3]:['d','b','a','c'],[1,2,3]:['f','g','h']})\n",
    "df"
   ]
  },
  {
   "cell_type": "code",
   "execution_count": 41,
   "metadata": {},
   "outputs": [],
   "source": [
    "df2 = "
   ]
  },
  {
   "cell_type": "code",
   "execution_count": 44,
   "metadata": {},
   "outputs": [
    {
     "data": {
      "text/plain": [
       "a   NaN\n",
       "b   NaN\n",
       "c   NaN\n",
       "d   NaN\n",
       "f   NaN\n",
       "g   NaN\n",
       "h   NaN\n",
       "dtype: float64"
      ]
     },
     "execution_count": 44,
     "metadata": {},
     "output_type": "execute_result"
    }
   ],
   "source": [
    "df2['d'] == df.add(df1, fill_value = 0)['d']\n",
    "df2"
   ]
  },
  {
   "cell_type": "code",
   "execution_count": 52,
   "metadata": {},
   "outputs": [
    {
     "data": {
      "text/plain": [
       "a    0\n",
       "b    1\n",
       "c    2\n",
       "d    3\n",
       "e    4\n",
       "dtype: int32"
      ]
     },
     "execution_count": 52,
     "metadata": {},
     "output_type": "execute_result"
    }
   ],
   "source": [
    "S = pd.Series(np.arange(5), index=['a', 'b', 'c', 'd', 'e'])\n",
    "S"
   ]
  },
  {
   "cell_type": "code",
   "execution_count": 53,
   "metadata": {},
   "outputs": [
    {
     "data": {
      "text/plain": [
       "b    1\n",
       "c    2\n",
       "d    3\n",
       "dtype: int32"
      ]
     },
     "execution_count": 53,
     "metadata": {},
     "output_type": "execute_result"
    }
   ],
   "source": [
    "S[['b', 'c', 'd']]"
   ]
  },
  {
   "cell_type": "code",
   "execution_count": 54,
   "metadata": {},
   "outputs": [
    {
     "data": {
      "text/plain": [
       "b    1\n",
       "c    2\n",
       "d    3\n",
       "dtype: int32"
      ]
     },
     "execution_count": 54,
     "metadata": {},
     "output_type": "execute_result"
    }
   ],
   "source": [
    "S[S <= 3][S > 0]"
   ]
  },
  {
   "cell_type": "code",
   "execution_count": 55,
   "metadata": {},
   "outputs": [
    {
     "data": {
      "text/plain": [
       "b    1\n",
       "c    2\n",
       "d    3\n",
       "dtype: int32"
      ]
     },
     "execution_count": 55,
     "metadata": {},
     "output_type": "execute_result"
    }
   ],
   "source": [
    "S[1:4]"
   ]
  },
  {
   "cell_type": "code",
   "execution_count": null,
   "metadata": {},
   "outputs": [],
   "source": [
    "f = lambda x: x.max() + x.min()\n",
    "df_new = df.apply(f)"
   ]
  },
  {
   "cell_type": "code",
   "execution_count": null,
   "metadata": {},
   "outputs": [],
   "source": [
    "46\n",
    "\n",
    "bool(re.match('A', s)) == True\n",
    "\n",
    "'([^A])(?=A{3})'\n",
    "\n",
    "df.index[0]\n",
    "\n",
    "s3['Mango'] >=  s1.add(s2, fill_value = 0)['Mango']\n",
    "\n",
    "S['b':'e']\n",
    "\n",
    "new_df.unstack().unstack()\n",
    "\n",
    "\n",
    "30.0"
   ]
  },
  {
   "cell_type": "code",
   "execution_count": 59,
   "metadata": {},
   "outputs": [
    {
     "data": {
      "text/html": [
       "<div>\n",
       "<style scoped>\n",
       "    .dataframe tbody tr th:only-of-type {\n",
       "        vertical-align: middle;\n",
       "    }\n",
       "\n",
       "    .dataframe tbody tr th {\n",
       "        vertical-align: top;\n",
       "    }\n",
       "\n",
       "    .dataframe thead th {\n",
       "        text-align: right;\n",
       "    }\n",
       "</style>\n",
       "<table border=\"1\" class=\"dataframe\">\n",
       "  <thead>\n",
       "    <tr style=\"text-align: right;\">\n",
       "      <th></th>\n",
       "      <th>a</th>\n",
       "      <th>b</th>\n",
       "      <th>c</th>\n",
       "    </tr>\n",
       "  </thead>\n",
       "  <tbody>\n",
       "    <tr>\n",
       "      <th>0</th>\n",
       "      <td>5</td>\n",
       "      <td>6</td>\n",
       "      <td>20</td>\n",
       "    </tr>\n",
       "    <tr>\n",
       "      <th>1</th>\n",
       "      <td>5</td>\n",
       "      <td>82</td>\n",
       "      <td>28</td>\n",
       "    </tr>\n",
       "    <tr>\n",
       "      <th>2</th>\n",
       "      <td>71</td>\n",
       "      <td>31</td>\n",
       "      <td>92</td>\n",
       "    </tr>\n",
       "    <tr>\n",
       "      <th>3</th>\n",
       "      <td>67</td>\n",
       "      <td>37</td>\n",
       "      <td>49</td>\n",
       "    </tr>\n",
       "  </tbody>\n",
       "</table>\n",
       "</div>"
      ],
      "text/plain": [
       "    a   b   c\n",
       "0   5   6  20\n",
       "1   5  82  28\n",
       "2  71  31  92\n",
       "3  67  37  49"
      ]
     },
     "execution_count": 59,
     "metadata": {},
     "output_type": "execute_result"
    }
   ],
   "source": [
    "df = pd.DataFrame({'a':[5,5,71,67], 'b':[6,82,31,37], 'c':[20,28,92,49]})\n",
    "df"
   ]
  },
  {
   "cell_type": "code",
   "execution_count": 60,
   "metadata": {},
   "outputs": [],
   "source": [
    "f = lambda x: x.max() + x.min()\n",
    "df_new = df.apply(f)"
   ]
  },
  {
   "cell_type": "code",
   "execution_count": 63,
   "metadata": {},
   "outputs": [
    {
     "data": {
      "text/plain": [
       "a     76\n",
       "b     88\n",
       "c    112\n",
       "dtype: int64"
      ]
     },
     "execution_count": 63,
     "metadata": {},
     "output_type": "execute_result"
    }
   ],
   "source": [
    "df_new"
   ]
  },
  {
   "cell_type": "code",
   "execution_count": null,
   "metadata": {},
   "outputs": [],
   "source": []
  }
 ],
 "metadata": {
  "kernelspec": {
   "display_name": "Python 3",
   "language": "python",
   "name": "python3"
  },
  "language_info": {
   "codemirror_mode": {
    "name": "ipython",
    "version": 3
   },
   "file_extension": ".py",
   "mimetype": "text/x-python",
   "name": "python",
   "nbconvert_exporter": "python",
   "pygments_lexer": "ipython3",
   "version": "3.10.11"
  },
  "orig_nbformat": 4
 },
 "nbformat": 4,
 "nbformat_minor": 2
}
